{
 "cells": [
  {
   "cell_type": "code",
   "execution_count": 2,
   "id": "30448f9e",
   "metadata": {},
   "outputs": [
    {
     "data": {
      "text/plain": [
       "'3.8.0 (tags/v3.8.0:fa919fd, Oct 14 2019, 19:21:23) [MSC v.1916 32 bit (Intel)]'"
      ]
     },
     "execution_count": 2,
     "metadata": {},
     "output_type": "execute_result"
    }
   ],
   "source": [
    "import sys\n",
    "sys.version\n",
    "\n"
   ]
  },
  {
   "cell_type": "code",
   "execution_count": 12,
   "id": "38056a4d",
   "metadata": {},
   "outputs": [
    {
     "name": "stdout",
     "output_type": "stream",
     "text": [
      "[[1 2]\n",
      " [3 4]]\n"
     ]
    },
    {
     "data": {
      "text/plain": [
       "(2, 2)"
      ]
     },
     "execution_count": 12,
     "metadata": {},
     "output_type": "execute_result"
    }
   ],
   "source": [
    "import numpy as np\n",
    "A = np.array([[1,2],[3,4]])\n",
    "print(A)\n",
    "\n",
    "type(A)\n",
    "\n",
    "A.ndim\n",
    "\n",
    "A.shape"
   ]
  },
  {
   "cell_type": "code",
   "execution_count": 15,
   "id": "0452319c",
   "metadata": {},
   "outputs": [
    {
     "name": "stdout",
     "output_type": "stream",
     "text": [
      "4 2.5 1 10\n"
     ]
    }
   ],
   "source": [
    "A.dtype\n",
    "print(A.max(),A.mean(),A.min(),A.sum())\n"
   ]
  },
  {
   "cell_type": "code",
   "execution_count": 18,
   "id": "99e592cd",
   "metadata": {},
   "outputs": [
    {
     "data": {
      "text/plain": [
       "array([3, 4])"
      ]
     },
     "execution_count": 18,
     "metadata": {},
     "output_type": "execute_result"
    }
   ],
   "source": [
    "A[0]\n",
    "A[1]\n"
   ]
  },
  {
   "cell_type": "code",
   "execution_count": 20,
   "id": "6d896e0c",
   "metadata": {},
   "outputs": [
    {
     "data": {
      "text/plain": [
       "array([[1, 3],\n",
       "       [2, 4]])"
      ]
     },
     "execution_count": 20,
     "metadata": {},
     "output_type": "execute_result"
    }
   ],
   "source": [
    "A.T"
   ]
  },
  {
   "cell_type": "code",
   "execution_count": 22,
   "id": "08d27fe5",
   "metadata": {},
   "outputs": [
    {
     "data": {
      "text/plain": [
       "array([1, 2, 3, 4])"
      ]
     },
     "execution_count": 22,
     "metadata": {},
     "output_type": "execute_result"
    }
   ],
   "source": [
    "A.flatten()"
   ]
  },
  {
   "cell_type": "code",
   "execution_count": 25,
   "id": "176d7aa2",
   "metadata": {},
   "outputs": [
    {
     "data": {
      "text/plain": [
       "array([[ 10, 200],\n",
       "       [ 30, 400]])"
      ]
     },
     "execution_count": 25,
     "metadata": {},
     "output_type": "execute_result"
    }
   ],
   "source": [
    "B = np.array([10,100])\n",
    "\n",
    "A*B"
   ]
  },
  {
   "cell_type": "code",
   "execution_count": 28,
   "id": "68216503",
   "metadata": {},
   "outputs": [
    {
     "data": {
      "text/plain": [
       "array([210, 430])"
      ]
     },
     "execution_count": 28,
     "metadata": {},
     "output_type": "execute_result"
    }
   ],
   "source": [
    "B.dot(B)\n",
    "A.dot(B)"
   ]
  },
  {
   "cell_type": "code",
   "execution_count": 35,
   "id": "47dc663b",
   "metadata": {},
   "outputs": [
    {
     "data": {
      "text/plain": [
       "0.0    0.0\n",
       "1.2    3.6\n",
       "1.8    2.0\n",
       "3.0    5.8\n",
       "3.6    4.2\n",
       "4.8    8.0\n",
       "Name: My_Series, dtype: float64"
      ]
     },
     "execution_count": 35,
     "metadata": {},
     "output_type": "execute_result"
    }
   ],
   "source": [
    "import pandas as pd\n",
    "\n",
    "s = pd.Series([0.0, 3.6, 2.0, 5.8, 4.2, 8.0])\n",
    "\n",
    "s.index = pd.Index([0.0, 1.2, 1.8, 3.0, 3.6, 4.8])\n",
    "\n",
    "s.name = 'My_Series'\n",
    "\n",
    "\n",
    "\n",
    "s"
   ]
  },
  {
   "cell_type": "code",
   "execution_count": 38,
   "id": "ceadd7cc",
   "metadata": {},
   "outputs": [
    {
     "data": {
      "text/plain": [
       "0.0    0.0\n",
       "1.2    3.6\n",
       "1.8    2.0\n",
       "3.0    5.8\n",
       "3.6    4.2\n",
       "4.8    8.0\n",
       "5.9    5.5\n",
       "Name: My_Series, dtype: float64"
      ]
     },
     "execution_count": 38,
     "metadata": {},
     "output_type": "execute_result"
    }
   ],
   "source": [
    "s[5.9] = 5.5\n",
    "\n",
    "s"
   ]
  },
  {
   "cell_type": "code",
   "execution_count": 43,
   "id": "2a4aa639",
   "metadata": {},
   "outputs": [
    {
     "data": {
      "text/plain": [
       "0.0    0.0\n",
       "1.2    3.6\n",
       "1.8    2.0\n",
       "3.0    5.8\n",
       "3.6    4.2\n",
       "4.8    8.0\n",
       "5.9    5.5\n",
       "6.8    6.7\n",
       "8.0    4.2\n",
       "6.8    6.7\n",
       "8.0    4.2\n",
       "6.8    6.7\n",
       "8.0    4.2\n",
       "dtype: float64"
      ]
     },
     "execution_count": 43,
     "metadata": {},
     "output_type": "execute_result"
    }
   ],
   "source": [
    "ser = pd.Series([6.7, 4.2], index = [6.8, 8.0])\n",
    "s = s.append(ser)\n",
    "\n",
    "s"
   ]
  },
  {
   "cell_type": "code",
   "execution_count": 45,
   "id": "d7ac333c",
   "metadata": {},
   "outputs": [
    {
     "data": {
      "text/plain": [
       "8.0"
      ]
     },
     "execution_count": 45,
     "metadata": {},
     "output_type": "execute_result"
    }
   ],
   "source": [
    "s.index[-1]\n"
   ]
  },
  {
   "cell_type": "code",
   "execution_count": 47,
   "id": "8327585d",
   "metadata": {},
   "outputs": [
    {
     "data": {
      "text/plain": [
       "4.2"
      ]
     },
     "execution_count": 47,
     "metadata": {},
     "output_type": "execute_result"
    }
   ],
   "source": [
    "s.values[-1]"
   ]
  },
  {
   "cell_type": "code",
   "execution_count": 50,
   "id": "89fe8a17",
   "metadata": {},
   "outputs": [
    {
     "data": {
      "text/plain": [
       "8.0    4.2\n",
       "8.0    4.2\n",
       "8.0    4.2\n",
       "dtype: float64"
      ]
     },
     "execution_count": 50,
     "metadata": {},
     "output_type": "execute_result"
    }
   ],
   "source": [
    "s.loc[8.0]"
   ]
  },
  {
   "cell_type": "code",
   "execution_count": 52,
   "id": "f0b858db",
   "metadata": {},
   "outputs": [
    {
     "data": {
      "text/plain": [
       "4.2"
      ]
     },
     "execution_count": 52,
     "metadata": {},
     "output_type": "execute_result"
    }
   ],
   "source": [
    "s.iloc[-1]"
   ]
  },
  {
   "cell_type": "code",
   "execution_count": 54,
   "id": "a276c8da",
   "metadata": {},
   "outputs": [
    {
     "data": {
      "text/plain": [
       "array([0. , 3.6, 2. , 5.8, 4.2, 8. , 5.5, 6.7, 4.2, 6.7, 4.2, 6.7, 4.2])"
      ]
     },
     "execution_count": 54,
     "metadata": {},
     "output_type": "execute_result"
    }
   ],
   "source": [
    "s.values[:]"
   ]
  },
  {
   "cell_type": "code",
   "execution_count": 56,
   "id": "98c908da",
   "metadata": {},
   "outputs": [
    {
     "data": {
      "text/plain": [
       "0.0    0.0\n",
       "1.2    3.6\n",
       "1.8    2.0\n",
       "3.0    5.8\n",
       "3.6    4.2\n",
       "4.8    8.0\n",
       "5.9    5.5\n",
       "6.8    6.7\n",
       "8.0    4.2\n",
       "6.8    6.7\n",
       "8.0    4.2\n",
       "6.8    6.7\n",
       "8.0    4.2\n",
       "dtype: float64"
      ]
     },
     "execution_count": 56,
     "metadata": {},
     "output_type": "execute_result"
    }
   ],
   "source": [
    "s.iloc[:]"
   ]
  },
  {
   "cell_type": "code",
   "execution_count": 58,
   "id": "b64542f1",
   "metadata": {},
   "outputs": [
    {
     "data": {
      "text/plain": [
       "0.0    0.0\n",
       "1.2    3.6\n",
       "1.8    2.0\n",
       "3.0    5.8\n",
       "3.6    4.2\n",
       "4.8    8.0\n",
       "5.9    5.5\n",
       "6.8    6.7\n",
       "6.8    6.7\n",
       "6.8    6.7\n",
       "dtype: float64"
      ]
     },
     "execution_count": 58,
     "metadata": {},
     "output_type": "execute_result"
    }
   ],
   "source": [
    "s.drop(8.0)"
   ]
  },
  {
   "cell_type": "code",
   "execution_count": 60,
   "id": "531941cf",
   "metadata": {},
   "outputs": [
    {
     "data": {
      "text/plain": [
       "count    13.000000\n",
       "mean      4.753846\n",
       "std       2.165878\n",
       "min       0.000000\n",
       "25%       4.200000\n",
       "50%       4.200000\n",
       "75%       6.700000\n",
       "max       8.000000\n",
       "dtype: float64"
      ]
     },
     "execution_count": 60,
     "metadata": {},
     "output_type": "execute_result"
    }
   ],
   "source": [
    "s.describe()"
   ]
  },
  {
   "cell_type": "code",
   "execution_count": 72,
   "id": "9b6015a9",
   "metadata": {},
   "outputs": [
    {
     "data": {
      "image/png": "[encoded data removed]",
      "text/plain": [
       "<Figure size 432x288 with 1 Axes>"
      ]
     },
     "metadata": {
      "needs_background": "light"
     },
     "output_type": "display_data"
    }
   ],
   "source": [
    "import pandas as pd\n",
    "\n",
    "s = pd.Series([0.0, 3.6, 2.0, 5.8, 4.2, 8.0, 5.5, 6.7, 4.2])\n",
    "\n",
    "s.index = pd.Index([0.0, 1.2, 1.8, 3.0, 3.6, 4.8, 5.9, 6.8, 8.0])\n",
    "\n",
    "s.index.name = 'MY_Index'\n",
    "s.name = 'My_Series'\n",
    "\n",
    "s\n",
    "\n",
    "import matplotlib.pyplot as plt\n",
    "plt.title(\"ELLIOTT_WAVE\")\n",
    "plt.plot(s, 'bs--')\n",
    "plt.xticks(s.index)\n",
    "plt.yticks(s.values)\n",
    "\n",
    "plt.grid(True)\n",
    "plt.show()"
   ]
  },
  {
   "cell_type": "code",
   "execution_count": 79,
   "id": "38809572",
   "metadata": {},
   "outputs": [
    {
     "data": {
      "text/html": [
       "<div>\n",
       "<style scoped>\n",
       "    .dataframe tbody tr th:only-of-type {\n",
       "        vertical-align: middle;\n",
       "    }\n",
       "\n",
       "    .dataframe tbody tr th {\n",
       "        vertical-align: top;\n",
       "    }\n",
       "\n",
       "    .dataframe thead th {\n",
       "        text-align: right;\n",
       "    }\n",
       "</style>\n",
       "<table border=\"1\" class=\"dataframe\">\n",
       "  <thead>\n",
       "    <tr style=\"text-align: right;\">\n",
       "      <th></th>\n",
       "      <th>KOSPI</th>\n",
       "      <th>KOSDAQ</th>\n",
       "    </tr>\n",
       "  </thead>\n",
       "  <tbody>\n",
       "    <tr>\n",
       "      <th>2014</th>\n",
       "      <td>1915</td>\n",
       "      <td>542</td>\n",
       "    </tr>\n",
       "    <tr>\n",
       "      <th>2015</th>\n",
       "      <td>1961</td>\n",
       "      <td>682</td>\n",
       "    </tr>\n",
       "    <tr>\n",
       "      <th>2016</th>\n",
       "      <td>2026</td>\n",
       "      <td>631</td>\n",
       "    </tr>\n",
       "    <tr>\n",
       "      <th>2017</th>\n",
       "      <td>2467</td>\n",
       "      <td>798</td>\n",
       "    </tr>\n",
       "    <tr>\n",
       "      <th>2018</th>\n",
       "      <td>2041</td>\n",
       "      <td>675</td>\n",
       "    </tr>\n",
       "  </tbody>\n",
       "</table>\n",
       "</div>"
      ],
      "text/plain": [
       "      KOSPI  KOSDAQ\n",
       "2014   1915     542\n",
       "2015   1961     682\n",
       "2016   2026     631\n",
       "2017   2467     798\n",
       "2018   2041     675"
      ]
     },
     "execution_count": 79,
     "metadata": {},
     "output_type": "execute_result"
    }
   ],
   "source": [
    "import pandas as pd\n",
    "df = pd.DataFrame({'KOSPI':[1915,1961, 2026, 2467,2041]\n",
    "                  , 'KOSDAQ':[542,682, 631, 798, 675]}\n",
    "                , index = [2014,2015,2016,2017,2018]\n",
    "                  )\n",
    "df\n"
   ]
  },
  {
   "cell_type": "code",
   "execution_count": 81,
   "id": "4e127644",
   "metadata": {},
   "outputs": [
    {
     "data": {
      "text/html": [
       "<div>\n",
       "<style scoped>\n",
       "    .dataframe tbody tr th:only-of-type {\n",
       "        vertical-align: middle;\n",
       "    }\n",
       "\n",
       "    .dataframe tbody tr th {\n",
       "        vertical-align: top;\n",
       "    }\n",
       "\n",
       "    .dataframe thead th {\n",
       "        text-align: right;\n",
       "    }\n",
       "</style>\n",
       "<table border=\"1\" class=\"dataframe\">\n",
       "  <thead>\n",
       "    <tr style=\"text-align: right;\">\n",
       "      <th></th>\n",
       "      <th>KOSPI</th>\n",
       "      <th>KOSDAQ</th>\n",
       "    </tr>\n",
       "  </thead>\n",
       "  <tbody>\n",
       "    <tr>\n",
       "      <th>count</th>\n",
       "      <td>5.000000</td>\n",
       "      <td>5.000000</td>\n",
       "    </tr>\n",
       "    <tr>\n",
       "      <th>mean</th>\n",
       "      <td>2082.000000</td>\n",
       "      <td>665.600000</td>\n",
       "    </tr>\n",
       "    <tr>\n",
       "      <th>std</th>\n",
       "      <td>221.117616</td>\n",
       "      <td>92.683871</td>\n",
       "    </tr>\n",
       "    <tr>\n",
       "      <th>min</th>\n",
       "      <td>1915.000000</td>\n",
       "      <td>542.000000</td>\n",
       "    </tr>\n",
       "    <tr>\n",
       "      <th>25%</th>\n",
       "      <td>1961.000000</td>\n",
       "      <td>631.000000</td>\n",
       "    </tr>\n",
       "    <tr>\n",
       "      <th>50%</th>\n",
       "      <td>2026.000000</td>\n",
       "      <td>675.000000</td>\n",
       "    </tr>\n",
       "    <tr>\n",
       "      <th>75%</th>\n",
       "      <td>2041.000000</td>\n",
       "      <td>682.000000</td>\n",
       "    </tr>\n",
       "    <tr>\n",
       "      <th>max</th>\n",
       "      <td>2467.000000</td>\n",
       "      <td>798.000000</td>\n",
       "    </tr>\n",
       "  </tbody>\n",
       "</table>\n",
       "</div>"
      ],
      "text/plain": [
       "             KOSPI      KOSDAQ\n",
       "count     5.000000    5.000000\n",
       "mean   2082.000000  665.600000\n",
       "std     221.117616   92.683871\n",
       "min    1915.000000  542.000000\n",
       "25%    1961.000000  631.000000\n",
       "50%    2026.000000  675.000000\n",
       "75%    2041.000000  682.000000\n",
       "max    2467.000000  798.000000"
      ]
     },
     "execution_count": 81,
     "metadata": {},
     "output_type": "execute_result"
    }
   ],
   "source": [
    "df.describe()"
   ]
  },
  {
   "cell_type": "code",
   "execution_count": 83,
   "id": "23b0983d",
   "metadata": {},
   "outputs": [
    {
     "name": "stdout",
     "output_type": "stream",
     "text": [
      "<class 'pandas.core.frame.DataFrame'>\n",
      "Int64Index: 5 entries, 2014 to 2018\n",
      "Data columns (total 2 columns):\n",
      " #   Column  Non-Null Count  Dtype\n",
      "---  ------  --------------  -----\n",
      " 0   KOSPI   5 non-null      int64\n",
      " 1   KOSDAQ  5 non-null      int64\n",
      "dtypes: int64(2)\n",
      "memory usage: 120.0 bytes\n"
     ]
    }
   ],
   "source": [
    "df.info()"
   ]
  },
  {
   "cell_type": "code",
   "execution_count": 87,
   "id": "d9b3b659",
   "metadata": {},
   "outputs": [
    {
     "data": {
      "text/html": [
       "<div>\n",
       "<style scoped>\n",
       "    .dataframe tbody tr th:only-of-type {\n",
       "        vertical-align: middle;\n",
       "    }\n",
       "\n",
       "    .dataframe tbody tr th {\n",
       "        vertical-align: top;\n",
       "    }\n",
       "\n",
       "    .dataframe thead th {\n",
       "        text-align: right;\n",
       "    }\n",
       "</style>\n",
       "<table border=\"1\" class=\"dataframe\">\n",
       "  <thead>\n",
       "    <tr style=\"text-align: right;\">\n",
       "      <th></th>\n",
       "      <th>KOSPI</th>\n",
       "    </tr>\n",
       "  </thead>\n",
       "  <tbody>\n",
       "    <tr>\n",
       "      <th>2014</th>\n",
       "      <td>1915</td>\n",
       "    </tr>\n",
       "    <tr>\n",
       "      <th>2015</th>\n",
       "      <td>1961</td>\n",
       "    </tr>\n",
       "    <tr>\n",
       "      <th>2016</th>\n",
       "      <td>2026</td>\n",
       "    </tr>\n",
       "    <tr>\n",
       "      <th>2017</th>\n",
       "      <td>2467</td>\n",
       "    </tr>\n",
       "    <tr>\n",
       "      <th>2018</th>\n",
       "      <td>2041</td>\n",
       "    </tr>\n",
       "  </tbody>\n",
       "</table>\n",
       "</div>"
      ],
      "text/plain": [
       "      KOSPI\n",
       "2014   1915\n",
       "2015   1961\n",
       "2016   2026\n",
       "2017   2467\n",
       "2018   2041"
      ]
     },
     "execution_count": 87,
     "metadata": {},
     "output_type": "execute_result"
    }
   ],
   "source": [
    "kospi = pd.DataFrame({'KOSPI':[1915,1961, 2026, 2467,2041]}\n",
    "                , index = [2014,2015,2016,2017,2018]\n",
    "                  )\n",
    "\n",
    "kospi"
   ]
  },
  {
   "cell_type": "code",
   "execution_count": 90,
   "id": "62c25bdb",
   "metadata": {},
   "outputs": [
    {
     "data": {
      "text/html": [
       "<div>\n",
       "<style scoped>\n",
       "    .dataframe tbody tr th:only-of-type {\n",
       "        vertical-align: middle;\n",
       "    }\n",
       "\n",
       "    .dataframe tbody tr th {\n",
       "        vertical-align: top;\n",
       "    }\n",
       "\n",
       "    .dataframe thead th {\n",
       "        text-align: right;\n",
       "    }\n",
       "</style>\n",
       "<table border=\"1\" class=\"dataframe\">\n",
       "  <thead>\n",
       "    <tr style=\"text-align: right;\">\n",
       "      <th></th>\n",
       "      <th>KOSDAQ</th>\n",
       "    </tr>\n",
       "  </thead>\n",
       "  <tbody>\n",
       "    <tr>\n",
       "      <th>2014</th>\n",
       "      <td>542</td>\n",
       "    </tr>\n",
       "    <tr>\n",
       "      <th>2015</th>\n",
       "      <td>682</td>\n",
       "    </tr>\n",
       "    <tr>\n",
       "      <th>2016</th>\n",
       "      <td>631</td>\n",
       "    </tr>\n",
       "    <tr>\n",
       "      <th>2017</th>\n",
       "      <td>798</td>\n",
       "    </tr>\n",
       "    <tr>\n",
       "      <th>2018</th>\n",
       "      <td>675</td>\n",
       "    </tr>\n",
       "  </tbody>\n",
       "</table>\n",
       "</div>"
      ],
      "text/plain": [
       "      KOSDAQ\n",
       "2014     542\n",
       "2015     682\n",
       "2016     631\n",
       "2017     798\n",
       "2018     675"
      ]
     },
     "execution_count": 90,
     "metadata": {},
     "output_type": "execute_result"
    }
   ],
   "source": [
    "kosdaq = pd.DataFrame({'KOSDAQ':[542,682, 631, 798, 675]}\n",
    "                , index = [2014,2015,2016,2017,2018]\n",
    "                  )\n",
    "kosdaq"
   ]
  },
  {
   "cell_type": "code",
   "execution_count": 98,
   "id": "98c04298",
   "metadata": {},
   "outputs": [
    {
     "data": {
      "text/html": [
       "<div>\n",
       "<style scoped>\n",
       "    .dataframe tbody tr th:only-of-type {\n",
       "        vertical-align: middle;\n",
       "    }\n",
       "\n",
       "    .dataframe tbody tr th {\n",
       "        vertical-align: top;\n",
       "    }\n",
       "\n",
       "    .dataframe thead th {\n",
       "        text-align: right;\n",
       "    }\n",
       "</style>\n",
       "<table border=\"1\" class=\"dataframe\">\n",
       "  <thead>\n",
       "    <tr style=\"text-align: right;\">\n",
       "      <th></th>\n",
       "      <th>KOSPI</th>\n",
       "      <th>KOSDAQ</th>\n",
       "    </tr>\n",
       "  </thead>\n",
       "  <tbody>\n",
       "    <tr>\n",
       "      <th>2014</th>\n",
       "      <td>1915</td>\n",
       "      <td>542</td>\n",
       "    </tr>\n",
       "    <tr>\n",
       "      <th>2015</th>\n",
       "      <td>1961</td>\n",
       "      <td>682</td>\n",
       "    </tr>\n",
       "    <tr>\n",
       "      <th>2016</th>\n",
       "      <td>2026</td>\n",
       "      <td>631</td>\n",
       "    </tr>\n",
       "    <tr>\n",
       "      <th>2017</th>\n",
       "      <td>2467</td>\n",
       "      <td>798</td>\n",
       "    </tr>\n",
       "    <tr>\n",
       "      <th>2018</th>\n",
       "      <td>2041</td>\n",
       "      <td>675</td>\n",
       "    </tr>\n",
       "  </tbody>\n",
       "</table>\n",
       "</div>"
      ],
      "text/plain": [
       "      KOSPI  KOSDAQ\n",
       "2014   1915     542\n",
       "2015   1961     682\n",
       "2016   2026     631\n",
       "2017   2467     798\n",
       "2018   2041     675"
      ]
     },
     "execution_count": 98,
     "metadata": {},
     "output_type": "execute_result"
    }
   ],
   "source": [
    "columns = ['KOSPI','KOSDAQ']\n",
    "index = [2014, 2015,2016, 2017, 2018]\n",
    "rows = []\n",
    "\n",
    "rows.append([1915,542])\n",
    "rows.append([1961,682])\n",
    "rows.append([2026,631])\n",
    "rows.append([2467,798])\n",
    "rows.append([2041,675])\n",
    "\n",
    "df = pd.DataFrame(rows,columns=columns, index=index)\n",
    "df"
   ]
  },
  {
   "cell_type": "code",
   "execution_count": 100,
   "id": "c102d059",
   "metadata": {},
   "outputs": [
    {
     "name": "stdout",
     "output_type": "stream",
     "text": [
      "2014 1915 542\n",
      "2015 1961 682\n",
      "2016 2026 631\n",
      "2017 2467 798\n",
      "2018 2041 675\n"
     ]
    }
   ],
   "source": [
    "for i in df.index:\n",
    "    print(i,df['KOSPI'][i],df['KOSDAQ'][i])"
   ]
  },
  {
   "cell_type": "code",
   "execution_count": 103,
   "id": "e9d23a0e",
   "metadata": {},
   "outputs": [
    {
     "name": "stdout",
     "output_type": "stream",
     "text": [
      "KRX(Index=2014, KOSPI=1915, KOSDAQ=542)\n",
      "KRX(Index=2015, KOSPI=1961, KOSDAQ=682)\n",
      "KRX(Index=2016, KOSPI=2026, KOSDAQ=631)\n",
      "KRX(Index=2017, KOSPI=2467, KOSDAQ=798)\n",
      "KRX(Index=2018, KOSPI=2041, KOSDAQ=675)\n"
     ]
    }
   ],
   "source": [
    "for row in df.itertuples(name='KRX'):\n",
    "    print(row)"
   ]
  },
  {
   "cell_type": "code",
   "execution_count": 106,
   "id": "2a4dabf4",
   "metadata": {},
   "outputs": [
    {
     "name": "stdout",
     "output_type": "stream",
     "text": [
      "2014 1915 542\n",
      "2015 1961 682\n",
      "2016 2026 631\n",
      "2017 2467 798\n",
      "2018 2041 675\n"
     ]
    }
   ],
   "source": [
    "for idx, row in df.iterrows():\n",
    "    print(idx, row[0],row[1])"
   ]
  },
  {
   "cell_type": "code",
   "execution_count": 112,
   "id": "096a24ca",
   "metadata": {},
   "outputs": [
    {
     "name": "stdout",
     "output_type": "stream",
     "text": [
      "[*********************100%***********************]  1 of 1 completed\n",
      "[*********************100%***********************]  1 of 1 completed\n"
     ]
    }
   ],
   "source": [
    "from pandas_datareader import data as pdr\n",
    "import yfinance as yf\n",
    "\n",
    "yf.pdr_override()\n",
    "\n",
    "sec = pdr.get_data_yahoo('005930.KS',start='2018-05-04')\n",
    "msft = pdr.get_data_yahoo('MSFT',start='2018-05-04')"
   ]
  },
  {
   "cell_type": "code",
   "execution_count": 119,
   "id": "a5360099",
   "metadata": {},
   "outputs": [
    {
     "data": {
      "text/html": [
       "<div>\n",
       "<style scoped>\n",
       "    .dataframe tbody tr th:only-of-type {\n",
       "        vertical-align: middle;\n",
       "    }\n",
       "\n",
       "    .dataframe tbody tr th {\n",
       "        vertical-align: top;\n",
       "    }\n",
       "\n",
       "    .dataframe thead th {\n",
       "        text-align: right;\n",
       "    }\n",
       "</style>\n",
       "<table border=\"1\" class=\"dataframe\">\n",
       "  <thead>\n",
       "    <tr style=\"text-align: right;\">\n",
       "      <th></th>\n",
       "      <th>Open</th>\n",
       "      <th>High</th>\n",
       "      <th>Low</th>\n",
       "      <th>Close</th>\n",
       "      <th>Adj Close</th>\n",
       "      <th>Volume</th>\n",
       "    </tr>\n",
       "    <tr>\n",
       "      <th>Date</th>\n",
       "      <th></th>\n",
       "      <th></th>\n",
       "      <th></th>\n",
       "      <th></th>\n",
       "      <th></th>\n",
       "      <th></th>\n",
       "    </tr>\n",
       "  </thead>\n",
       "  <tbody>\n",
       "    <tr>\n",
       "      <th>2018-05-04</th>\n",
       "      <td>53000.0</td>\n",
       "      <td>53900.0</td>\n",
       "      <td>51800.0</td>\n",
       "      <td>51900.0</td>\n",
       "      <td>46620.242188</td>\n",
       "      <td>39565391</td>\n",
       "    </tr>\n",
       "    <tr>\n",
       "      <th>2018-05-08</th>\n",
       "      <td>52600.0</td>\n",
       "      <td>53200.0</td>\n",
       "      <td>51900.0</td>\n",
       "      <td>52600.0</td>\n",
       "      <td>47249.031250</td>\n",
       "      <td>23104720</td>\n",
       "    </tr>\n",
       "    <tr>\n",
       "      <th>2018-05-09</th>\n",
       "      <td>52600.0</td>\n",
       "      <td>52800.0</td>\n",
       "      <td>50900.0</td>\n",
       "      <td>50900.0</td>\n",
       "      <td>45721.964844</td>\n",
       "      <td>16128305</td>\n",
       "    </tr>\n",
       "    <tr>\n",
       "      <th>2018-05-10</th>\n",
       "      <td>51700.0</td>\n",
       "      <td>51700.0</td>\n",
       "      <td>50600.0</td>\n",
       "      <td>51600.0</td>\n",
       "      <td>46350.757812</td>\n",
       "      <td>13905263</td>\n",
       "    </tr>\n",
       "    <tr>\n",
       "      <th>2018-05-11</th>\n",
       "      <td>52000.0</td>\n",
       "      <td>52200.0</td>\n",
       "      <td>51200.0</td>\n",
       "      <td>51300.0</td>\n",
       "      <td>46081.277344</td>\n",
       "      <td>10314997</td>\n",
       "    </tr>\n",
       "    <tr>\n",
       "      <th>2018-05-14</th>\n",
       "      <td>51000.0</td>\n",
       "      <td>51100.0</td>\n",
       "      <td>49900.0</td>\n",
       "      <td>50100.0</td>\n",
       "      <td>45003.355469</td>\n",
       "      <td>14909272</td>\n",
       "    </tr>\n",
       "    <tr>\n",
       "      <th>2018-05-15</th>\n",
       "      <td>50200.0</td>\n",
       "      <td>50400.0</td>\n",
       "      <td>49100.0</td>\n",
       "      <td>49200.0</td>\n",
       "      <td>44194.910156</td>\n",
       "      <td>18709146</td>\n",
       "    </tr>\n",
       "    <tr>\n",
       "      <th>2018-05-16</th>\n",
       "      <td>49200.0</td>\n",
       "      <td>50200.0</td>\n",
       "      <td>49150.0</td>\n",
       "      <td>49850.0</td>\n",
       "      <td>44778.789062</td>\n",
       "      <td>15918683</td>\n",
       "    </tr>\n",
       "    <tr>\n",
       "      <th>2018-05-17</th>\n",
       "      <td>50300.0</td>\n",
       "      <td>50500.0</td>\n",
       "      <td>49400.0</td>\n",
       "      <td>49400.0</td>\n",
       "      <td>44374.570312</td>\n",
       "      <td>10365440</td>\n",
       "    </tr>\n",
       "    <tr>\n",
       "      <th>2018-05-18</th>\n",
       "      <td>49900.0</td>\n",
       "      <td>49900.0</td>\n",
       "      <td>49350.0</td>\n",
       "      <td>49500.0</td>\n",
       "      <td>44464.386719</td>\n",
       "      <td>6706570</td>\n",
       "    </tr>\n",
       "  </tbody>\n",
       "</table>\n",
       "</div>"
      ],
      "text/plain": [
       "               Open     High      Low    Close     Adj Close    Volume\n",
       "Date                                                                  \n",
       "2018-05-04  53000.0  53900.0  51800.0  51900.0  46620.242188  39565391\n",
       "2018-05-08  52600.0  53200.0  51900.0  52600.0  47249.031250  23104720\n",
       "2018-05-09  52600.0  52800.0  50900.0  50900.0  45721.964844  16128305\n",
       "2018-05-10  51700.0  51700.0  50600.0  51600.0  46350.757812  13905263\n",
       "2018-05-11  52000.0  52200.0  51200.0  51300.0  46081.277344  10314997\n",
       "2018-05-14  51000.0  51100.0  49900.0  50100.0  45003.355469  14909272\n",
       "2018-05-15  50200.0  50400.0  49100.0  49200.0  44194.910156  18709146\n",
       "2018-05-16  49200.0  50200.0  49150.0  49850.0  44778.789062  15918683\n",
       "2018-05-17  50300.0  50500.0  49400.0  49400.0  44374.570312  10365440\n",
       "2018-05-18  49900.0  49900.0  49350.0  49500.0  44464.386719   6706570"
      ]
     },
     "execution_count": 119,
     "metadata": {},
     "output_type": "execute_result"
    }
   ],
   "source": [
    "sec.head(10)\n"
   ]
  },
  {
   "cell_type": "code",
   "execution_count": 121,
   "id": "46b7a165",
   "metadata": {},
   "outputs": [
    {
     "data": {
      "text/html": [
       "<div>\n",
       "<style scoped>\n",
       "    .dataframe tbody tr th:only-of-type {\n",
       "        vertical-align: middle;\n",
       "    }\n",
       "\n",
       "    .dataframe tbody tr th {\n",
       "        vertical-align: top;\n",
       "    }\n",
       "\n",
       "    .dataframe thead th {\n",
       "        text-align: right;\n",
       "    }\n",
       "</style>\n",
       "<table border=\"1\" class=\"dataframe\">\n",
       "  <thead>\n",
       "    <tr style=\"text-align: right;\">\n",
       "      <th></th>\n",
       "      <th>Open</th>\n",
       "      <th>High</th>\n",
       "      <th>Low</th>\n",
       "      <th>Close</th>\n",
       "      <th>Adj Close</th>\n",
       "    </tr>\n",
       "    <tr>\n",
       "      <th>Date</th>\n",
       "      <th></th>\n",
       "      <th></th>\n",
       "      <th></th>\n",
       "      <th></th>\n",
       "      <th></th>\n",
       "    </tr>\n",
       "  </thead>\n",
       "  <tbody>\n",
       "    <tr>\n",
       "      <th>2021-08-09</th>\n",
       "      <td>289.750000</td>\n",
       "      <td>291.549988</td>\n",
       "      <td>287.809998</td>\n",
       "      <td>288.329987</td>\n",
       "      <td>288.329987</td>\n",
       "    </tr>\n",
       "    <tr>\n",
       "      <th>2021-08-10</th>\n",
       "      <td>288.799988</td>\n",
       "      <td>289.250000</td>\n",
       "      <td>285.200012</td>\n",
       "      <td>286.440002</td>\n",
       "      <td>286.440002</td>\n",
       "    </tr>\n",
       "    <tr>\n",
       "      <th>2021-08-11</th>\n",
       "      <td>287.209991</td>\n",
       "      <td>288.660004</td>\n",
       "      <td>285.859985</td>\n",
       "      <td>286.950012</td>\n",
       "      <td>286.950012</td>\n",
       "    </tr>\n",
       "    <tr>\n",
       "      <th>2021-08-12</th>\n",
       "      <td>286.630005</td>\n",
       "      <td>289.970001</td>\n",
       "      <td>286.339996</td>\n",
       "      <td>289.809998</td>\n",
       "      <td>289.809998</td>\n",
       "    </tr>\n",
       "    <tr>\n",
       "      <th>2021-08-13</th>\n",
       "      <td>289.480011</td>\n",
       "      <td>292.899994</td>\n",
       "      <td>289.299988</td>\n",
       "      <td>292.850006</td>\n",
       "      <td>292.850006</td>\n",
       "    </tr>\n",
       "  </tbody>\n",
       "</table>\n",
       "</div>"
      ],
      "text/plain": [
       "                  Open        High         Low       Close   Adj Close\n",
       "Date                                                                  \n",
       "2021-08-09  289.750000  291.549988  287.809998  288.329987  288.329987\n",
       "2021-08-10  288.799988  289.250000  285.200012  286.440002  286.440002\n",
       "2021-08-11  287.209991  288.660004  285.859985  286.950012  286.950012\n",
       "2021-08-12  286.630005  289.970001  286.339996  289.809998  289.809998\n",
       "2021-08-13  289.480011  292.899994  289.299988  292.850006  292.850006"
      ]
     },
     "execution_count": 121,
     "metadata": {},
     "output_type": "execute_result"
    }
   ],
   "source": [
    "tmp_msft = msft.drop(columns='Volume')\n",
    "tmp_msft.tail()"
   ]
  },
  {
   "cell_type": "code",
   "execution_count": 123,
   "id": "9e85b24c",
   "metadata": {},
   "outputs": [
    {
     "data": {
      "text/plain": [
       "DatetimeIndex(['2018-05-04', '2018-05-08', '2018-05-09', '2018-05-10',\n",
       "               '2018-05-11', '2018-05-14', '2018-05-15', '2018-05-16',\n",
       "               '2018-05-17', '2018-05-18',\n",
       "               ...\n",
       "               '2021-08-02', '2021-08-03', '2021-08-04', '2021-08-05',\n",
       "               '2021-08-06', '2021-08-09', '2021-08-10', '2021-08-11',\n",
       "               '2021-08-12', '2021-08-13'],\n",
       "              dtype='datetime64[ns]', name='Date', length=807, freq=None)"
      ]
     },
     "execution_count": 123,
     "metadata": {},
     "output_type": "execute_result"
    }
   ],
   "source": [
    "sec.index"
   ]
  },
  {
   "cell_type": "code",
   "execution_count": 125,
   "id": "f85c319e",
   "metadata": {},
   "outputs": [
    {
     "data": {
      "text/plain": [
       "Index(['Open', 'High', 'Low', 'Close', 'Adj Close', 'Volume'], dtype='object')"
      ]
     },
     "execution_count": 125,
     "metadata": {},
     "output_type": "execute_result"
    }
   ],
   "source": [
    "sec.columns"
   ]
  },
  {
   "cell_type": "code",
   "execution_count": 134,
   "id": "9c6fc9d8",
   "metadata": {},
   "outputs": [
    {
     "data": {
      "text/plain": [
       "<matplotlib.legend.Legend at 0x1223acd0>"
      ]
     },
     "execution_count": 134,
     "metadata": {},
     "output_type": "execute_result"
    },
    {
     "data": {
      "image/png": "[encoded data removed]",
      "text/plain": [
       "<Figure size 432x288 with 1 Axes>"
      ]
     },
     "metadata": {
      "needs_background": "light"
     },
     "output_type": "display_data"
    }
   ],
   "source": [
    "import matplotlib.pyplot as plt\n",
    "\n",
    "plt.plot(sec.index, sec.Close, 'b', label='samsung')\n",
    "plt.plot(msft.index, msft.Close, 'r--', label='ms')\n",
    "\n",
    "plt.legend(loc='best')\n"
   ]
  },
  {
   "cell_type": "code",
   "execution_count": 136,
   "id": "9b94e461",
   "metadata": {},
   "outputs": [
    {
     "data": {
      "text/plain": [
       "pandas.core.series.Series"
      ]
     },
     "execution_count": 136,
     "metadata": {},
     "output_type": "execute_result"
    }
   ],
   "source": [
    "type(sec['Close'])"
   ]
  },
  {
   "cell_type": "code",
   "execution_count": 138,
   "id": "e22ab36a",
   "metadata": {},
   "outputs": [
    {
     "data": {
      "text/plain": [
       "Date\n",
       "2018-05-04    51900.0\n",
       "2018-05-08    52600.0\n",
       "2018-05-09    50900.0\n",
       "2018-05-10    51600.0\n",
       "2018-05-11    51300.0\n",
       "               ...   \n",
       "2021-08-09    81500.0\n",
       "2021-08-10    80200.0\n",
       "2021-08-11    78500.0\n",
       "2021-08-12    77000.0\n",
       "2021-08-13    74400.0\n",
       "Name: Close, Length: 807, dtype: float64"
      ]
     },
     "execution_count": 138,
     "metadata": {},
     "output_type": "execute_result"
    }
   ],
   "source": [
    "sec['Close']"
   ]
  },
  {
   "cell_type": "code",
   "execution_count": 141,
   "id": "2cc6f207",
   "metadata": {},
   "outputs": [
    {
     "data": {
      "text/plain": [
       "Date\n",
       "2018-05-04    52600.0\n",
       "2018-05-08    50900.0\n",
       "2018-05-09    51600.0\n",
       "2018-05-10    51300.0\n",
       "2018-05-11    50100.0\n",
       "               ...   \n",
       "2021-08-09    80200.0\n",
       "2021-08-10    78500.0\n",
       "2021-08-11    77000.0\n",
       "2021-08-12    74400.0\n",
       "2021-08-13        NaN\n",
       "Name: Close, Length: 807, dtype: float64"
      ]
     },
     "execution_count": 141,
     "metadata": {},
     "output_type": "execute_result"
    }
   ],
   "source": [
    "sec['Close'].shift(1)\n",
    "sec['Close'].shift(-1)"
   ]
  },
  {
   "cell_type": "code",
   "execution_count": 144,
   "id": "6a4b2ce0",
   "metadata": {},
   "outputs": [
    {
     "data": {
      "text/plain": [
       "Date\n",
       "2018-05-04         NaN\n",
       "2018-05-08    1.348748\n",
       "2018-05-09   -3.231939\n",
       "2018-05-10    1.375246\n",
       "2018-05-11   -0.581395\n",
       "                ...   \n",
       "2021-08-09    0.000000\n",
       "2021-08-10   -1.595092\n",
       "2021-08-11   -2.119701\n",
       "2021-08-12   -1.910828\n",
       "2021-08-13   -3.376623\n",
       "Name: Close, Length: 807, dtype: float64"
      ]
     },
     "execution_count": 144,
     "metadata": {},
     "output_type": "execute_result"
    }
   ],
   "source": [
    "sec_dpc = (sec['Close']/sec['Close'].shift(1)-1)*100\n",
    "sec_dpc"
   ]
  },
  {
   "cell_type": "code",
   "execution_count": 146,
   "id": "84b3673d",
   "metadata": {},
   "outputs": [
    {
     "data": {
      "text/plain": [
       "Date\n",
       "2018-05-04    0.000000\n",
       "2018-05-08    1.348748\n",
       "2018-05-09   -3.231939\n",
       "2018-05-10    1.375246\n",
       "2018-05-11   -0.581395\n",
       "Name: Close, dtype: float64"
      ]
     },
     "execution_count": 146,
     "metadata": {},
     "output_type": "execute_result"
    }
   ],
   "source": [
    "sec_dpc.iloc[0] = 0\n",
    "sec_dpc.head()"
   ]
  },
  {
   "cell_type": "code",
   "execution_count": 151,
   "id": "5224080e",
   "metadata": {},
   "outputs": [
    {
     "data": {
      "text/plain": [
       "Date\n",
       "2018-05-03    0.000000\n",
       "2018-05-04    1.158716\n",
       "2018-05-07    1.113911\n",
       "2018-05-08   -0.426111\n",
       "2018-05-09    1.179423\n",
       "Name: Close, dtype: float64"
      ]
     },
     "execution_count": 151,
     "metadata": {},
     "output_type": "execute_result"
    }
   ],
   "source": [
    "msft_dpc = (msft['Close']/msft['Close'].shift(1)-1)*100\n",
    "msft_dpc.iloc[0] = 0\n",
    "msft_dpc.head()"
   ]
  },
  {
   "cell_type": "code",
   "execution_count": 159,
   "id": "df4f6d13",
   "metadata": {},
   "outputs": [
    {
     "data": {
      "image/png": "[encoded data removed]",
      "text/plain": [
       "<Figure size 432x288 with 1 Axes>"
      ]
     },
     "metadata": {
      "needs_background": "light"
     },
     "output_type": "display_data"
    }
   ],
   "source": [
    "import matplotlib.pyplot as plt\n",
    "sec_dpc = (sec['Close']-sec['Close'].shift(1))/sec['Close'].shift(1)*100\n",
    "sec_dpc.iloc[0] = 0\n",
    "plt.hist(sec_dpc, bins=18)\n",
    "plt.grid(True)\n",
    "plt.show()"
   ]
  },
  {
   "cell_type": "code",
   "execution_count": 161,
   "id": "a37fb667",
   "metadata": {},
   "outputs": [
    {
     "data": {
      "text/plain": [
       "count    807.000000\n",
       "mean       0.058931\n",
       "std        1.695817\n",
       "min       -6.387665\n",
       "25%       -0.966380\n",
       "50%        0.000000\n",
       "75%        1.001837\n",
       "max       10.470588\n",
       "Name: Close, dtype: float64"
      ]
     },
     "execution_count": 161,
     "metadata": {},
     "output_type": "execute_result"
    }
   ],
   "source": [
    "sec_dpc.describe()"
   ]
  },
  {
   "cell_type": "code",
   "execution_count": 166,
   "id": "e4e79ef2",
   "metadata": {},
   "outputs": [
    {
     "data": {
      "text/plain": [
       "Date\n",
       "2018-05-04     0.000000\n",
       "2018-05-08     1.348748\n",
       "2018-05-09    -1.883192\n",
       "2018-05-10    -0.507946\n",
       "2018-05-11    -1.089341\n",
       "                ...    \n",
       "2021-08-09    56.559615\n",
       "2021-08-10    54.964523\n",
       "2021-08-11    52.844822\n",
       "2021-08-12    50.933994\n",
       "2021-08-13    47.557371\n",
       "Name: Close, Length: 807, dtype: float64"
      ]
     },
     "execution_count": 166,
     "metadata": {},
     "output_type": "execute_result"
    }
   ],
   "source": [
    "sec_dps_cs = sec_dpc.cumsum()\n",
    "sec_dps_cs"
   ]
  },
  {
   "cell_type": "code",
   "execution_count": 180,
   "id": "06a4f07a",
   "metadata": {},
   "outputs": [
    {
     "data": {
      "text/plain": [
       "Date\n",
       "2018-05-03      0.000000\n",
       "2018-05-04      1.158716\n",
       "2018-05-07      2.272627\n",
       "2018-05-08      1.846516\n",
       "2018-05-09      3.025939\n",
       "                 ...    \n",
       "2021-08-09    127.429762\n",
       "2021-08-10    126.774269\n",
       "2021-08-11    126.952320\n",
       "2021-08-12    127.949004\n",
       "2021-08-13    128.997970\n",
       "Name: Close, Length: 827, dtype: float64"
      ]
     },
     "execution_count": 180,
     "metadata": {},
     "output_type": "execute_result"
    }
   ],
   "source": [
    "msft_dps_cs = msft_dpc.cumsum()\n",
    "msft_dps_cs\n"
   ]
  },
  {
   "cell_type": "code",
   "execution_count": 186,
   "id": "71cac555",
   "metadata": {},
   "outputs": [
    {
     "data": {
      "text/plain": [
       "<matplotlib.legend.Legend at 0x122fd760>"
      ]
     },
     "execution_count": 186,
     "metadata": {},
     "output_type": "execute_result"
    },
    {
     "data": {
      "image/png": "[encoded data removed]",
      "text/plain": [
       "<Figure size 432x288 with 1 Axes>"
      ]
     },
     "metadata": {
      "needs_background": "light"
     },
     "output_type": "display_data"
    }
   ],
   "source": [
    "plt.plot(sec.index, sec_dps_cs, 'b', label='se')\n",
    "plt.plot(msft.index, msft_dps_cs,'r',label='ms')\n",
    "plt.ylabel('Change %')\n",
    "plt.grid(True)\n",
    "plt.legend(loc='best')"
   ]
  },
  {
   "cell_type": "code",
   "execution_count": 207,
   "id": "c6478bdc",
   "metadata": {},
   "outputs": [
    {
     "name": "stdout",
     "output_type": "stream",
     "text": [
      "[*********************100%***********************]  1 of 1 completed\n",
      "Date\n",
      "2014-01-06    1953.280029\n",
      "2014-01-07    1959.439941\n",
      "2014-01-08    1959.439941\n",
      "2014-01-09    1959.439941\n",
      "2014-01-10    1959.439941\n",
      "                 ...     \n",
      "2021-08-09    3305.209961\n",
      "2021-08-10    3305.209961\n",
      "2021-08-11    3305.209961\n",
      "2021-08-12    3305.209961\n",
      "2021-08-13    3305.209961\n",
      "Name: Adj Close, Length: 1866, dtype: float64\n"
     ]
    },
    {
     "data": {
      "image/png": "[encoded data removed]",
      "text/plain": [
       "<Figure size 648x504 with 2 Axes>"
      ]
     },
     "metadata": {
      "needs_background": "light"
     },
     "output_type": "display_data"
    },
    {
     "data": {
      "text/plain": [
       "Date\n",
       "2020-03-19   -0.357089\n",
       "2020-03-20   -0.357089\n",
       "2020-03-23   -0.357089\n",
       "2020-03-24   -0.357089\n",
       "2020-03-25   -0.357089\n",
       "                ...   \n",
       "2021-03-22   -0.357089\n",
       "2021-03-23   -0.357089\n",
       "2021-03-24   -0.357089\n",
       "2021-03-25   -0.357089\n",
       "2021-03-26   -0.357089\n",
       "Name: Adj Close, Length: 252, dtype: float64"
      ]
     },
     "execution_count": 207,
     "metadata": {},
     "output_type": "execute_result"
    }
   ],
   "source": [
    "from pandas_datareader import data as pdr\n",
    "import yfinance as yf\n",
    "yf.pdr_override()\n",
    "import matplotlib.pyplot as plt\n",
    "\n",
    "kospi = pdr.get_data_yahoo('^KS11','2014-01-04')\n",
    "\n",
    "window = 252\n",
    "peak = kospi['Adj Close'].rolling(window, min_periods=1).max()\n",
    "print(peak)\n",
    "drawdown = kospi['Adj Close']/peak - 1.0\n",
    "max_dd = drawdown.rolling(window, min_periods=1).min()\n",
    "\n",
    "\n",
    "plt.figure(figsize=(9,7))\n",
    "plt.subplot(211)\n",
    "kospi['Close'].plot(label='KOSPI', title='KOSPI MDD', grid=True, legend=True)\n",
    "plt.subplot(212)\n",
    "drawdown.plot(c='blue', label='KOSPI DD', grid=True, legend=True)\n",
    "max_dd.plot(c='red', label='KOSPI MDD', grid=True, legend=True)\n",
    "plt.show()\n",
    "\n",
    "max_dd[max_dd==-0.3570889779916474]"
   ]
  }
 ],
 "metadata": {
  "kernelspec": {
   "display_name": "Py380_32",
   "language": "python",
   "name": "py380_32"
  },
  "language_info": {
   "codemirror_mode": {
    "name": "ipython",
    "version": 3
   },
   "file_extension": ".py",
   "mimetype": "text/x-python",
   "name": "python",
   "nbconvert_exporter": "python",
   "pygments_lexer": "ipython3",
   "version": "3.8.0"
  }
 },
 "nbformat": 4,
 "nbformat_minor": 5
}
